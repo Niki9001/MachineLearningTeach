{
 "cells": [
  {
   "cell_type": "markdown",
   "id": "fd6af38d",
   "metadata": {},
   "source": [
    "# Machine learning steps practice"
   ]
  },
  {
   "cell_type": "markdown",
   "id": "830d43cb",
   "metadata": {},
   "source": [
    "## 1. Define the problem"
   ]
  },
  {
   "cell_type": "markdown",
   "id": "40b7adc9",
   "metadata": {},
   "source": [
    "### Question: What kind of model should we use? Regression or classification"
   ]
  },
  {
   "cell_type": "markdown",
   "id": "1cfdd3cf",
   "metadata": {},
   "source": [
    "Answer the questio here:"
   ]
  },
  {
   "cell_type": "code",
   "execution_count": null,
   "id": "2d6a5300",
   "metadata": {},
   "outputs": [],
   "source": []
  },
  {
   "cell_type": "markdown",
   "id": "7f7ae55c",
   "metadata": {},
   "source": [
    "## 2. Prepare the data"
   ]
  },
  {
   "cell_type": "markdown",
   "id": "0ac70f02",
   "metadata": {},
   "source": [
    "### 2.1 check the dataset"
   ]
  },
  {
   "cell_type": "markdown",
   "id": "5fd643bb",
   "metadata": {},
   "source": [
    "#### Give your code here"
   ]
  },
  {
   "cell_type": "code",
   "execution_count": null,
   "id": "027aad8a",
   "metadata": {},
   "outputs": [],
   "source": []
  },
  {
   "cell_type": "code",
   "execution_count": null,
   "id": "690a2bdf",
   "metadata": {},
   "outputs": [],
   "source": []
  },
  {
   "cell_type": "code",
   "execution_count": null,
   "id": "8b2351d1",
   "metadata": {},
   "outputs": [],
   "source": []
  },
  {
   "cell_type": "code",
   "execution_count": null,
   "id": "132f7696",
   "metadata": {},
   "outputs": [],
   "source": []
  },
  {
   "cell_type": "markdown",
   "id": "a8b9b8ba",
   "metadata": {},
   "source": [
    "### 2.3 Explore the data"
   ]
  },
  {
   "cell_type": "markdown",
   "id": "0ae694fa",
   "metadata": {},
   "source": [
    "#### Give your code here"
   ]
  },
  {
   "cell_type": "code",
   "execution_count": null,
   "id": "fbdc9bff",
   "metadata": {},
   "outputs": [],
   "source": []
  },
  {
   "cell_type": "code",
   "execution_count": null,
   "id": "20acd297",
   "metadata": {},
   "outputs": [],
   "source": []
  },
  {
   "cell_type": "code",
   "execution_count": null,
   "id": "078766d5",
   "metadata": {},
   "outputs": [],
   "source": []
  },
  {
   "cell_type": "markdown",
   "id": "3b608991",
   "metadata": {},
   "source": [
    "# 3. Feature engineering"
   ]
  },
  {
   "cell_type": "markdown",
   "id": "304b3ce3",
   "metadata": {},
   "source": [
    "### one-hot encoding"
   ]
  },
  {
   "cell_type": "markdown",
   "id": "2bceda10",
   "metadata": {},
   "source": [
    "#### Give your code here"
   ]
  },
  {
   "cell_type": "code",
   "execution_count": null,
   "id": "8257a5b9",
   "metadata": {},
   "outputs": [],
   "source": []
  },
  {
   "cell_type": "code",
   "execution_count": null,
   "id": "dcb7f192",
   "metadata": {},
   "outputs": [],
   "source": []
  },
  {
   "cell_type": "code",
   "execution_count": null,
   "id": "a6eacc02",
   "metadata": {},
   "outputs": [],
   "source": []
  },
  {
   "cell_type": "markdown",
   "id": "83028741",
   "metadata": {},
   "source": [
    "## 4. Choose a model and train it"
   ]
  },
  {
   "cell_type": "markdown",
   "id": "16bdd74f",
   "metadata": {},
   "source": [
    "### Pre works"
   ]
  },
  {
   "cell_type": "code",
   "execution_count": null,
   "id": "a9a25d0b",
   "metadata": {},
   "outputs": [],
   "source": []
  },
  {
   "cell_type": "code",
   "execution_count": null,
   "id": "310ec28e",
   "metadata": {},
   "outputs": [],
   "source": []
  },
  {
   "cell_type": "code",
   "execution_count": null,
   "id": "e4046d3a",
   "metadata": {},
   "outputs": [],
   "source": []
  },
  {
   "cell_type": "markdown",
   "id": "31bff3ee",
   "metadata": {},
   "source": [
    "### 4.1 Drop the column we want to predict in the X, and initial this column to y"
   ]
  },
  {
   "cell_type": "code",
   "execution_count": null,
   "id": "42aac8f6",
   "metadata": {},
   "outputs": [],
   "source": []
  },
  {
   "cell_type": "code",
   "execution_count": null,
   "id": "ad9e1c9c",
   "metadata": {},
   "outputs": [],
   "source": []
  },
  {
   "cell_type": "markdown",
   "id": "7d1966c7",
   "metadata": {},
   "source": [
    "### 4.2 Standardization"
   ]
  },
  {
   "cell_type": "code",
   "execution_count": null,
   "id": "debde4c0",
   "metadata": {},
   "outputs": [],
   "source": []
  },
  {
   "cell_type": "code",
   "execution_count": null,
   "id": "797ac3c6",
   "metadata": {},
   "outputs": [],
   "source": []
  },
  {
   "cell_type": "markdown",
   "id": "f05fd29e",
   "metadata": {},
   "source": [
    "### 4.3 Split into training and test sets"
   ]
  },
  {
   "cell_type": "code",
   "execution_count": null,
   "id": "f6cdb9c7",
   "metadata": {},
   "outputs": [],
   "source": []
  },
  {
   "cell_type": "code",
   "execution_count": null,
   "id": "25063388",
   "metadata": {},
   "outputs": [],
   "source": []
  },
  {
   "cell_type": "markdown",
   "id": "3737f551",
   "metadata": {},
   "source": [
    "### 4.4 Choose a model"
   ]
  },
  {
   "cell_type": "code",
   "execution_count": null,
   "id": "0b4c09bb",
   "metadata": {},
   "outputs": [],
   "source": []
  },
  {
   "cell_type": "code",
   "execution_count": null,
   "id": "f33d31da",
   "metadata": {},
   "outputs": [],
   "source": []
  },
  {
   "cell_type": "markdown",
   "id": "093f5d4c",
   "metadata": {},
   "source": [
    "### 4.5 Fit the model with data"
   ]
  },
  {
   "cell_type": "code",
   "execution_count": null,
   "id": "8356b540",
   "metadata": {},
   "outputs": [],
   "source": []
  },
  {
   "cell_type": "code",
   "execution_count": null,
   "id": "07bc87bf",
   "metadata": {},
   "outputs": [],
   "source": []
  },
  {
   "cell_type": "markdown",
   "id": "3bf5e5cb",
   "metadata": {},
   "source": [
    "### 4.6 Check the result with mse, rmse, R2 "
   ]
  },
  {
   "cell_type": "code",
   "execution_count": null,
   "id": "3148c443",
   "metadata": {},
   "outputs": [],
   "source": []
  },
  {
   "cell_type": "code",
   "execution_count": null,
   "id": "19a8456d",
   "metadata": {},
   "outputs": [],
   "source": []
  },
  {
   "cell_type": "markdown",
   "id": "f45694c5",
   "metadata": {},
   "source": [
    "### 4.7 Validation"
   ]
  },
  {
   "cell_type": "code",
   "execution_count": null,
   "id": "b4dcfedf",
   "metadata": {},
   "outputs": [],
   "source": []
  },
  {
   "cell_type": "code",
   "execution_count": null,
   "id": "218375e3",
   "metadata": {},
   "outputs": [],
   "source": []
  },
  {
   "cell_type": "code",
   "execution_count": null,
   "id": "8153be7b",
   "metadata": {},
   "outputs": [],
   "source": []
  },
  {
   "cell_type": "code",
   "execution_count": null,
   "id": "0684d138",
   "metadata": {},
   "outputs": [],
   "source": []
  }
 ],
 "metadata": {
  "kernelspec": {
   "display_name": "Python 3 (ipykernel)",
   "language": "python",
   "name": "python3"
  },
  "language_info": {
   "codemirror_mode": {
    "name": "ipython",
    "version": 3
   },
   "file_extension": ".py",
   "mimetype": "text/x-python",
   "name": "python",
   "nbconvert_exporter": "python",
   "pygments_lexer": "ipython3",
   "version": "3.10.6"
  }
 },
 "nbformat": 4,
 "nbformat_minor": 5
}
